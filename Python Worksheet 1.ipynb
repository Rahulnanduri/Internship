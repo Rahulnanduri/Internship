{
 "cells": [
  {
   "cell_type": "code",
   "execution_count": null,
   "id": "7624eabb",
   "metadata": {},
   "outputs": [],
   "source": [
    "#11\n",
    "num = int(input(\"Enter a number: \"))\n",
    "factorial = 1\n",
    "if num < 0:\n",
    "    print(\"Sorry, factorial does not exist for negative numbers\")\n",
    "elif num == 0:\n",
    "    print(\"The factorial of 0 is 1\")\n",
    "else:\n",
    "    for i in range(1,num + 1):\n",
    "        factorial = factorial*i\n",
    "    print(\"The factorial of\",num,\"is\",factorial)"
   ]
  },
  {
   "cell_type": "code",
   "execution_count": null,
   "id": "07d28de9",
   "metadata": {},
   "outputs": [],
   "source": [
    "#12\n",
    "number = int(input(\"Enter number : \"))\n",
    "if number == 0 or number == 1:\n",
    "    print(number,\" => Neither prime nor composite\")\n",
    "else:\n",
    "    for i in range(2,number):\n",
    "        if(number % i == 0):\n",
    "            print(number,\" => Composite Number\")\n",
    "            break\n",
    "    else:\n",
    "        print(number,\" => Prime Number\")"
   ]
  },
  {
   "cell_type": "code",
   "execution_count": null,
   "id": "4e4e1f58",
   "metadata": {},
   "outputs": [],
   "source": [
    "#13\n",
    "st = input(\"Enter any text\")\n",
    "if (st == st [:: - 1]):\n",
    "    print(\"This is a Polindrome String\")\n",
    "else:\n",
    "    print(\"This is not a Polindrome String\")"
   ]
  },
  {
   "cell_type": "code",
   "execution_count": null,
   "id": "b1864380",
   "metadata": {},
   "outputs": [],
   "source": [
    "#14\n",
    "def pythagoras(opposite_side, adjacent_side, hypotenuse):\n",
    "    if opposite_side == str(\"x\"):\n",
    "        return (\"Opposite = \" + str(((hypotenuse**2) - (adjacent_side**2))**0.5))\n",
    "    elif adjacent_side == str(\"x\"):\n",
    "        return (\"Adjacent = \" + str(((hypotenuse**2) - (opposite_side**2))**0.5))\n",
    "    elif hypotenuse == str(\"x\"):\n",
    "        return (\"Hypotenuse = \" + str(((opposite_side**2) + (adjacent_side**2))**0.5))\n",
    "    else:\n",
    "        return \"You Know the Answer!\"\n",
    "\n",
    "print(pythagoras(3, 4, 'x'))\n",
    "print(pythagoras(3, 'x', 5))\n",
    "print(pythagoras('x', 4, 5))\n",
    "print(pythagoras(3, 4, 5))"
   ]
  },
  {
   "cell_type": "code",
   "execution_count": null,
   "id": "65cb4c58",
   "metadata": {},
   "outputs": [],
   "source": [
    "#15\n",
    "from collections import Counter\n",
    "strA = \"timeofeffort\"\n",
    "print(\"Given String: \",strA)\n",
    "res = {}\n",
    "for keys in strA:\n",
    "res[keys] = res.get(keys, 0) + 1\n",
    "\n",
    "print(\"Frequency of each character :\\n \",res)"
   ]
  },
  {
   "cell_type": "code",
   "execution_count": null,
   "id": "841cb37f",
   "metadata": {},
   "outputs": [],
   "source": []
  }
 ],
 "metadata": {
  "kernelspec": {
   "display_name": "Python 3 (ipykernel)",
   "language": "python",
   "name": "python3"
  },
  "language_info": {
   "codemirror_mode": {
    "name": "ipython",
    "version": 3
   },
   "file_extension": ".py",
   "mimetype": "text/x-python",
   "name": "python",
   "nbconvert_exporter": "python",
   "pygments_lexer": "ipython3",
   "version": "3.9.7"
  }
 },
 "nbformat": 4,
 "nbformat_minor": 5
}
